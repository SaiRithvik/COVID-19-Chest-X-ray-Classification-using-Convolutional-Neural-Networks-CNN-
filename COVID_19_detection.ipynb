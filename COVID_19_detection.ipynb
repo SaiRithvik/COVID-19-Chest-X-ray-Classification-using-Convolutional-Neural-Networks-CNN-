{
  "nbformat": 4,
  "nbformat_minor": 0,
  "metadata": {
    "kernelspec": {
      "display_name": "Python 3",
      "language": "python",
      "name": "python3"
    },
    "language_info": {
      "codemirror_mode": {
        "name": "ipython",
        "version": 3
      },
      "file_extension": ".py",
      "mimetype": "text/x-python",
      "name": "python",
      "nbconvert_exporter": "python",
      "pygments_lexer": "ipython3",
      "version": "3.8.1"
    },
    "colab": {
      "name": "COVID-19_detection.ipynb",
      "provenance": [],
      "collapsed_sections": []
    },
    "accelerator": "GPU"
  },
  "cells": [
    {
      "cell_type": "code",
      "metadata": {
        "id": "0_G83nHefG5w",
        "colab_type": "code",
        "colab": {}
      },
      "source": [
        "import cv2"
      ],
      "execution_count": 0,
      "outputs": []
    },
    {
      "cell_type": "code",
      "metadata": {
        "id": "Dba0BER5fG6O",
        "colab_type": "code",
        "colab": {}
      },
      "source": [
        "\n",
        "import numpy as np\n",
        "from tqdm import tqdm"
      ],
      "execution_count": 0,
      "outputs": []
    },
    {
      "cell_type": "code",
      "metadata": {
        "scrolled": true,
        "id": "GgOaxwcefG6c",
        "colab_type": "code",
        "colab": {}
      },
      "source": [
        "import pandas as pd"
      ],
      "execution_count": 0,
      "outputs": []
    },
    {
      "cell_type": "code",
      "metadata": {
        "id": "ir2ozlGcfG6y",
        "colab_type": "code",
        "colab": {}
      },
      "source": [
        "import matplotlib.pyplot as plt\n",
        "%matplotlib inline"
      ],
      "execution_count": 0,
      "outputs": []
    },
    {
      "cell_type": "code",
      "metadata": {
        "id": "e7ib3Gy_fG7N",
        "colab_type": "code",
        "colab": {}
      },
      "source": [
        "import os"
      ],
      "execution_count": 0,
      "outputs": []
    },
    {
      "cell_type": "code",
      "metadata": {
        "id": "_uANK_DAfG7m",
        "colab_type": "code",
        "colab": {}
      },
      "source": [
        "import random"
      ],
      "execution_count": 0,
      "outputs": []
    },
    {
      "cell_type": "code",
      "metadata": {
        "id": "xtrWBh2ZfG71",
        "colab_type": "code",
        "colab": {}
      },
      "source": [
        "import gc"
      ],
      "execution_count": 0,
      "outputs": []
    },
    {
      "cell_type": "code",
      "metadata": {
        "id": "CIJzRpaQPlhb",
        "colab_type": "code",
        "outputId": "bdb87399-a0e5-4677-9f83-4c2ca03362b3",
        "colab": {
          "base_uri": "https://localhost:8080/",
          "height": 125
        }
      },
      "source": [
        "from google.colab import drive\n",
        "drive.mount('/content/gdrive')"
      ],
      "execution_count": 8,
      "outputs": [
        {
          "output_type": "stream",
          "text": [
            "Go to this URL in a browser: https://accounts.google.com/o/oauth2/auth?client_id=947318989803-6bn6qk8qdgf4n4g3pfee6491hc0brc4i.apps.googleusercontent.com&redirect_uri=urn%3aietf%3awg%3aoauth%3a2.0%3aoob&response_type=code&scope=email%20https%3a%2f%2fwww.googleapis.com%2fauth%2fdocs.test%20https%3a%2f%2fwww.googleapis.com%2fauth%2fdrive%20https%3a%2f%2fwww.googleapis.com%2fauth%2fdrive.photos.readonly%20https%3a%2f%2fwww.googleapis.com%2fauth%2fpeopleapi.readonly\n",
            "\n",
            "Enter your authorization code:\n",
            "··········\n",
            "Mounted at /content/gdrive\n"
          ],
          "name": "stdout"
        }
      ]
    },
    {
      "cell_type": "code",
      "metadata": {
        "id": "_sCcm4h3P6uo",
        "colab_type": "code",
        "outputId": "bc79589d-0a79-4024-cb4b-88a9523c4421",
        "colab": {
          "base_uri": "https://localhost:8080/",
          "height": 34
        }
      },
      "source": [
        "train_covid= '/content/gdrive/\"My Drive\"/\"Covid project\"/Covid project/train_5-5-20-2-45pm/covid'\n",
        "a= !ls {train_covid}\n",
        "len(a)"
      ],
      "execution_count": 9,
      "outputs": [
        {
          "output_type": "execute_result",
          "data": {
            "text/plain": [
              "2"
            ]
          },
          "metadata": {
            "tags": []
          },
          "execution_count": 9
        }
      ]
    },
    {
      "cell_type": "code",
      "metadata": {
        "id": "mDExyx2wfG7_",
        "colab_type": "code",
        "colab": {}
      },
      "source": [
        "train_dir='/content/gdrive/My Drive/Covid project/Covid project/train_5-5-20-2-45pm'\n",
        "test_dir='/content/gdrive/My Drive/Covid project/Covid project/test_5-5-20-2-45pm'\n",
        "#train_apple=['C:/Users/Saili/Desktop/hale_1\\{}'.format(i) for i in os.listdir(train_dir) if 'apple' in i]\n",
        "train_covid=os.path.join(train_dir,'covid')\n",
        "test_covid=os.path.join(test_dir,'covid')\n",
        "#print(tqdm(os.listdir(train_apple)))\n",
        "#train_orange=['C:/Users/Saili/Desktop/hale_1\\{}'.format(i) for i in os.listdir(train_dir) if 'orange' in i]\n",
        "train_normal=os.path.join(train_dir,'normal')\n",
        "test_normal=os.path.join(test_dir,'normal')"
      ],
      "execution_count": 0,
      "outputs": []
    },
    {
      "cell_type": "code",
      "metadata": {
        "id": "7IlE0hXWxM2o",
        "colab_type": "code",
        "outputId": "ed3399b8-9bb1-4ef4-acab-884746e17854",
        "colab": {
          "base_uri": "https://localhost:8080/",
          "height": 34
        }
      },
      "source": [
        "len(os.listdir(train_covid))\n"
      ],
      "execution_count": 13,
      "outputs": [
        {
          "output_type": "execute_result",
          "data": {
            "text/plain": [
              "624"
            ]
          },
          "metadata": {
            "tags": []
          },
          "execution_count": 13
        }
      ]
    },
    {
      "cell_type": "code",
      "metadata": {
        "id": "SJSF7osTjVfY",
        "colab_type": "code",
        "colab": {}
      },
      "source": [
        "train_imgs=[]\n",
        "labels=['covid','normal']\n",
        "for l in labels:\n",
        "  new_path=os.path.join(train_dir,l)\n",
        "  num_label=labels.index(l)\n",
        "  list=os.listdir(new_path)\n",
        "  for img in list:\n",
        "    img=cv2.imread(os.path.join(new_path,img),cv2.IMREAD_COLOR)\n",
        "    img=cv2.resize(img,(300,300),interpolation = cv2.INTER_CUBIC)\n",
        "    #RGB_img = cv2.cvtColor(img, cv2.COLOR_BGR2RGB)\n",
        "    train_imgs.append([img,num_label])\n",
        "    #imgplot=plt.imshow(RGB_img)\n",
        "    \n",
        "    #plt.show()\n"
      ],
      "execution_count": 0,
      "outputs": []
    },
    {
      "cell_type": "code",
      "metadata": {
        "id": "_WdLjuffKka9",
        "colab_type": "code",
        "colab": {}
      },
      "source": [
        "random.shuffle(train_imgs)"
      ],
      "execution_count": 0,
      "outputs": []
    },
    {
      "cell_type": "code",
      "metadata": {
        "id": "LSlcmnojmnKR",
        "colab_type": "code",
        "outputId": "f9fa2ada-23bb-4b6d-f237-1517d4c2823c",
        "colab": {
          "base_uri": "https://localhost:8080/",
          "height": 34
        }
      },
      "source": [
        "np.array(train_imgs).shape"
      ],
      "execution_count": 17,
      "outputs": [
        {
          "output_type": "execute_result",
          "data": {
            "text/plain": [
              "(1248, 2)"
            ]
          },
          "metadata": {
            "tags": []
          },
          "execution_count": 17
        }
      ]
    },
    {
      "cell_type": "code",
      "metadata": {
        "id": "CzE58Ct-sBLh",
        "colab_type": "code",
        "colab": {}
      },
      "source": [
        "train_imgs=np.array(train_imgs)\n",
        "y=train_imgs[:,1]\n",
        "X=train_imgs[:,0]"
      ],
      "execution_count": 0,
      "outputs": []
    },
    {
      "cell_type": "code",
      "metadata": {
        "id": "eJyyq6zcuVBs",
        "colab_type": "code",
        "outputId": "f4c49a3b-36a7-4568-8935-48a906ec99d7",
        "colab": {
          "base_uri": "https://localhost:8080/",
          "height": 34
        }
      },
      "source": [
        "X.shape"
      ],
      "execution_count": 19,
      "outputs": [
        {
          "output_type": "execute_result",
          "data": {
            "text/plain": [
              "(1248,)"
            ]
          },
          "metadata": {
            "tags": []
          },
          "execution_count": 19
        }
      ]
    },
    {
      "cell_type": "code",
      "metadata": {
        "scrolled": false,
        "id": "dbKJSkZYfG-i",
        "colab_type": "code",
        "outputId": "30be3be6-9fdb-4c06-ac05-c06df19bf0b2",
        "colab": {
          "base_uri": "https://localhost:8080/",
          "height": 244
        }
      },
      "source": [
        "plt.figure(figsize=(20,10))\n",
        "columns=5\n",
        "for i in range(columns):\n",
        "    plt.subplot(5/columns +1,columns,i+1)\n",
        "    RGB_img = cv2.cvtColor(X[i], cv2.COLOR_BGR2RGB)\n",
        "    imgplot=plt.imshow(RGB_img)\n",
        "    #plt.imshow(X[i])"
      ],
      "execution_count": 21,
      "outputs": [
        {
          "output_type": "display_data",
          "data": {
            "image/png": "[encoded data removed]",
            "text/plain": [
              "<Figure size 1440x720 with 5 Axes>"
            ]
          },
          "metadata": {
            "tags": [],
            "needs_background": "light"
          }
        }
      ]
    },
    {
      "cell_type": "code",
      "metadata": {
        "id": "l4C7_oWDul7H",
        "colab_type": "code",
        "outputId": "0328475c-56fe-4097-eba4-95fe44f409e7",
        "colab": {
          "base_uri": "https://localhost:8080/",
          "height": 34
        }
      },
      "source": [
        "del train_imgs\n",
        "gc.collect()"
      ],
      "execution_count": 22,
      "outputs": [
        {
          "output_type": "execute_result",
          "data": {
            "text/plain": [
              "15"
            ]
          },
          "metadata": {
            "tags": []
          },
          "execution_count": 22
        }
      ]
    },
    {
      "cell_type": "code",
      "metadata": {
        "id": "qCfEaB1pfG-r",
        "colab_type": "code",
        "outputId": "c598b123-efec-4d1d-cb11-bcdb40dd46dd",
        "colab": {
          "base_uri": "https://localhost:8080/",
          "height": 354
        }
      },
      "source": [
        "import seaborn as sns\n",
        "X=np.array(X)\n",
        "y=np.array(y)\n",
        "sns.countplot(y)\n",
        "plt.title('Covid and normal')"
      ],
      "execution_count": 23,
      "outputs": [
        {
          "output_type": "stream",
          "text": [
            "/usr/local/lib/python3.6/dist-packages/statsmodels/tools/_testing.py:19: FutureWarning: pandas.util.testing is deprecated. Use the functions in the public API at pandas.testing instead.\n",
            "  import pandas.util.testing as tm\n"
          ],
          "name": "stderr"
        },
        {
          "output_type": "execute_result",
          "data": {
            "text/plain": [
              "Text(0.5, 1.0, 'Covid and normal')"
            ]
          },
          "metadata": {
            "tags": []
          },
          "execution_count": 23
        },
        {
          "output_type": "display_data",
          "data": {
            "image/png": "[encoded data removed]",
            "text/plain": [
              "<Figure size 432x288 with 1 Axes>"
            ]
          },
          "metadata": {
            "tags": [],
            "needs_background": "light"
          }
        }
      ]
    },
    {
      "cell_type": "code",
      "metadata": {
        "id": "xwKuF-QPfG-6",
        "colab_type": "code",
        "outputId": "a50535d3-8973-4dcc-dab2-a7a021982827",
        "colab": {
          "base_uri": "https://localhost:8080/",
          "height": 52
        }
      },
      "source": [
        "X=np.array(X)\n",
        "y=np.array(y)\n",
        "print(X.shape)\n",
        "print(y.shape)"
      ],
      "execution_count": 24,
      "outputs": [
        {
          "output_type": "stream",
          "text": [
            "(1248,)\n",
            "(1248,)\n"
          ],
          "name": "stdout"
        }
      ]
    },
    {
      "cell_type": "code",
      "metadata": {
        "id": "mYdv_54QfG_F",
        "colab_type": "code",
        "outputId": "1eccc424-07b8-444e-a65a-99e332e14ec1",
        "colab": {
          "base_uri": "https://localhost:8080/",
          "height": 87
        }
      },
      "source": [
        "from sklearn.model_selection import train_test_split\n",
        "X_train,X_val,y_train,y_val=train_test_split(X,y,test_size=0.2,random_state=2)\n",
        "\n",
        "print(X_train.shape)\n",
        "print(X_val.shape)\n",
        "print(y_train.shape)\n",
        "print(y_val.shape)"
      ],
      "execution_count": 25,
      "outputs": [
        {
          "output_type": "stream",
          "text": [
            "(998,)\n",
            "(250,)\n",
            "(998,)\n",
            "(250,)\n"
          ],
          "name": "stdout"
        }
      ]
    },
    {
      "cell_type": "code",
      "metadata": {
        "id": "ljW97JTyfG_M",
        "colab_type": "code",
        "outputId": "d8774b64-69c5-4871-9b07-09d93779650f",
        "colab": {
          "base_uri": "https://localhost:8080/",
          "height": 34
        }
      },
      "source": [
        "del X\n",
        "del y\n",
        "gc.collect()"
      ],
      "execution_count": 26,
      "outputs": [
        {
          "output_type": "execute_result",
          "data": {
            "text/plain": [
              "0"
            ]
          },
          "metadata": {
            "tags": []
          },
          "execution_count": 26
        }
      ]
    },
    {
      "cell_type": "code",
      "metadata": {
        "id": "auyTJzrXyRDo",
        "colab_type": "code",
        "colab": {}
      },
      "source": [
        "ntrain=len(X_train)\n",
        "nval=len(X_val)\n",
        "batch_size=32 #4,8,16,32"
      ],
      "execution_count": 0,
      "outputs": []
    },
    {
      "cell_type": "code",
      "metadata": {
        "id": "g26pX2XuyWGT",
        "colab_type": "code",
        "colab": {}
      },
      "source": [
        "X_train1=[]\n",
        "X_val1=[]\n",
        "y_train1=[]\n",
        "y_val1=[]\n",
        "for i in range(len(X_train)):\n",
        "  X_train1.append(X_train[i])\n",
        "for i in range(len(X_val)):\n",
        "  X_val1.append(X_val[i])\n",
        "for i in range(len(y_train)):\n",
        "  y_train1.append(y_train[i])\n",
        "for i in range(len(y_val)):\n",
        "  y_val1.append(y_val[i])"
      ],
      "execution_count": 0,
      "outputs": []
    },
    {
      "cell_type": "code",
      "metadata": {
        "id": "Fw9xPJtGzNCh",
        "colab_type": "code",
        "outputId": "be899f7f-306f-491d-b6a6-448c8401c534",
        "colab": {
          "base_uri": "https://localhost:8080/",
          "height": 34
        }
      },
      "source": [
        "np.array(X_val1).shape"
      ],
      "execution_count": 29,
      "outputs": [
        {
          "output_type": "execute_result",
          "data": {
            "text/plain": [
              "(250, 300, 300, 3)"
            ]
          },
          "metadata": {
            "tags": []
          },
          "execution_count": 29
        }
      ]
    },
    {
      "cell_type": "code",
      "metadata": {
        "id": "RUOhpiphfG_V",
        "colab_type": "code",
        "outputId": "4f63f65f-2449-45f2-eedd-600263a49fb0",
        "colab": {
          "base_uri": "https://localhost:8080/",
          "height": 34
        }
      },
      "source": [
        "from keras import layers\n",
        "from keras import models\n",
        "from keras import optimizers\n",
        "from keras.preprocessing.image import ImageDataGenerator\n",
        "from keras.preprocessing.image import img_to_array, load_img"
      ],
      "execution_count": 30,
      "outputs": [
        {
          "output_type": "stream",
          "text": [
            "Using TensorFlow backend.\n"
          ],
          "name": "stderr"
        }
      ]
    },
    {
      "cell_type": "code",
      "metadata": {
        "id": "9gvl9UXUU_HX",
        "colab_type": "code",
        "colab": {}
      },
      "source": [
        "from keras.layers import Activation\n",
        "from keras import backend as K\n",
        "from keras.utils.generic_utils import get_custom_objects\n",
        "\n",
        "\n",
        "def custom_activation(x):\n",
        "    return (K.log(x+(1+x**2)**0.5))\n",
        "\n",
        "get_custom_objects().update({'custom_activation': Activation(custom_activation)})"
      ],
      "execution_count": 0,
      "outputs": []
    },
    {
      "cell_type": "code",
      "metadata": {
        "id": "ehYqpGkWfG_c",
        "colab_type": "code",
        "outputId": "76ac0dd2-e4e0-4951-b8e1-e2f16027b76f",
        "colab": {
          "base_uri": "https://localhost:8080/",
          "height": 72
        }
      },
      "source": [
        "model=models.Sequential()\n",
        "model.add(layers.Conv2D(32,(3,3),activation=Activation(custom_activation, name='customActivation'),input_shape=(300,300,3)))\n",
        "model.add(layers.MaxPooling2D((2,2)))\n",
        "model.add(layers.Conv2D(64,(3,3),activation=Activation(custom_activation, name='customActivation')))\n",
        "model.add(layers.MaxPooling2D((2,2)))\n",
        "model.add(layers.Conv2D(128,(3,3),activation=Activation(custom_activation, name='customActivation')))\n",
        "model.add(layers.MaxPooling2D((2,2)))\n",
        "model.add(layers.Conv2D(128,(3,3),activation=Activation(custom_activation, name='customActivation')))\n",
        "model.add(layers.MaxPooling2D((2,2)))\n",
        "model.add(layers.Flatten())\n",
        "model.add(layers.Dropout(0.5))\n",
        "model.add(layers.Dense(512,activation=Activation(custom_activation, name='customActivation')))\n",
        "model.add(layers.Dense(1,activation='sigmoid'))"
      ],
      "execution_count": 33,
      "outputs": [
        {
          "output_type": "stream",
          "text": [
            "/usr/local/lib/python3.6/dist-packages/keras/activations.py:235: UserWarning: Do not pass a layer instance (such as Activation) as the activation argument of another layer. Instead, advanced activation layers should be used just like any other layer in a model.\n",
            "  identifier=identifier.__class__.__name__))\n"
          ],
          "name": "stderr"
        }
      ]
    },
    {
      "cell_type": "code",
      "metadata": {
        "id": "UzYmEit3fG_n",
        "colab_type": "code",
        "outputId": "e96a559f-821c-456f-cfd2-54b52387dbeb",
        "colab": {
          "base_uri": "https://localhost:8080/",
          "height": 580
        }
      },
      "source": [
        "model.summary()"
      ],
      "execution_count": 34,
      "outputs": [
        {
          "output_type": "stream",
          "text": [
            "Model: \"sequential_2\"\n",
            "_________________________________________________________________\n",
            "Layer (type)                 Output Shape              Param #   \n",
            "=================================================================\n",
            "conv2d_5 (Conv2D)            (None, 298, 298, 32)      896       \n",
            "_________________________________________________________________\n",
            "max_pooling2d_5 (MaxPooling2 (None, 149, 149, 32)      0         \n",
            "_________________________________________________________________\n",
            "conv2d_6 (Conv2D)            (None, 147, 147, 64)      18496     \n",
            "_________________________________________________________________\n",
            "max_pooling2d_6 (MaxPooling2 (None, 73, 73, 64)        0         \n",
            "_________________________________________________________________\n",
            "conv2d_7 (Conv2D)            (None, 71, 71, 128)       73856     \n",
            "_________________________________________________________________\n",
            "max_pooling2d_7 (MaxPooling2 (None, 35, 35, 128)       0         \n",
            "_________________________________________________________________\n",
            "conv2d_8 (Conv2D)            (None, 33, 33, 128)       147584    \n",
            "_________________________________________________________________\n",
            "max_pooling2d_8 (MaxPooling2 (None, 16, 16, 128)       0         \n",
            "_________________________________________________________________\n",
            "flatten_2 (Flatten)          (None, 32768)             0         \n",
            "_________________________________________________________________\n",
            "dropout_2 (Dropout)          (None, 32768)             0         \n",
            "_________________________________________________________________\n",
            "dense_3 (Dense)              (None, 512)               16777728  \n",
            "_________________________________________________________________\n",
            "dense_4 (Dense)              (None, 1)                 513       \n",
            "=================================================================\n",
            "Total params: 17,019,073\n",
            "Trainable params: 17,019,073\n",
            "Non-trainable params: 0\n",
            "_________________________________________________________________\n"
          ],
          "name": "stdout"
        }
      ]
    },
    {
      "cell_type": "code",
      "metadata": {
        "id": "EZRFSqaMfG_3",
        "colab_type": "code",
        "colab": {}
      },
      "source": [
        "model.compile(loss='binary_crossentropy',optimizer=optimizers.RMSprop(lr=1e-4),metrics=['acc'])"
      ],
      "execution_count": 0,
      "outputs": []
    },
    {
      "cell_type": "code",
      "metadata": {
        "id": "ONNxJPsefHAF",
        "colab_type": "code",
        "outputId": "05c7b3ce-2a07-4306-dbc3-776b07770f25",
        "colab": {
          "base_uri": "https://localhost:8080/",
          "height": 54
        }
      },
      "source": [
        "'''\n",
        "train_datagen= ImageDataGenerator(rescale=1./255,\n",
        "                                 rotation_range=40,\n",
        "                                 width_shift_range=0.2,\n",
        "                                 height_shift_range=0.2,\n",
        "                                 shear_range=0.2,\n",
        "                                 zoom_range=0.2,\n",
        "                                 horizontal_flip=True,)\n",
        "                \n",
        "val_datagen=ImageDataGenerator(rescale=1./255)'''"
      ],
      "execution_count": 0,
      "outputs": [
        {
          "output_type": "execute_result",
          "data": {
            "text/plain": [
              "'\\ntrain_datagen= ImageDataGenerator(rescale=1./255,\\n                                 rotation_range=40,\\n                                 width_shift_range=0.2,\\n                                 height_shift_range=0.2,\\n                                 shear_range=0.2,\\n                                 zoom_range=0.2,\\n                                 horizontal_flip=True,)\\n                \\nval_datagen=ImageDataGenerator(rescale=1./255)'"
            ]
          },
          "metadata": {
            "tags": []
          },
          "execution_count": 32
        }
      ]
    },
    {
      "cell_type": "code",
      "metadata": {
        "id": "fOW9HVDEM4Vy",
        "colab_type": "code",
        "colab": {}
      },
      "source": [
        "train_datagen=ImageDataGenerator()\n",
        "\n",
        "val_datagen=ImageDataGenerator()"
      ],
      "execution_count": 0,
      "outputs": []
    },
    {
      "cell_type": "code",
      "metadata": {
        "id": "2h7o9dgG0IOX",
        "colab_type": "code",
        "outputId": "48105bb4-cca0-44de-b1b0-59bed8088c53",
        "colab": {
          "base_uri": "https://localhost:8080/",
          "height": 87
        }
      },
      "source": [
        "X_train1=np.array(X_train1)\n",
        "y_train1=np.array(y_train1)\n",
        "X_val1=np.array(X_val1)\n",
        "y_val1=np.array(y_val1)\n",
        "print(X_train1.shape)\n",
        "print(y_train1.shape)\n",
        "print(X_val1.shape)\n",
        "print(y_val1.shape)"
      ],
      "execution_count": 37,
      "outputs": [
        {
          "output_type": "stream",
          "text": [
            "(998, 300, 300, 3)\n",
            "(998,)\n",
            "(250, 300, 300, 3)\n",
            "(250,)\n"
          ],
          "name": "stdout"
        }
      ]
    },
    {
      "cell_type": "code",
      "metadata": {
        "id": "xaeWsYnUfHAR",
        "colab_type": "code",
        "colab": {}
      },
      "source": [
        "train_generator=train_datagen.flow(X_train1,y_train1,batch_size=batch_size)\n",
        "val_generator=val_datagen.flow(X_val1,y_val1,batch_size=batch_size)"
      ],
      "execution_count": 0,
      "outputs": []
    },
    {
      "cell_type": "code",
      "metadata": {
        "id": "8HJnHa4jfHAc",
        "colab_type": "code",
        "outputId": "cdfd54fc-6400-4047-8bdf-af74057c076f",
        "colab": {
          "base_uri": "https://localhost:8080/",
          "height": 1000
        }
      },
      "source": [
        "history=model.fit(train_generator,\n",
        "                 steps_per_epoch=ntrain // batch_size,\n",
        "                 epochs=64,\n",
        "                 validation_data=val_generator,\n",
        "                 validation_steps=nval // batch_size)"
      ],
      "execution_count": 39,
      "outputs": [
        {
          "output_type": "stream",
          "text": [
            "Epoch 1/64\n",
            "31/31 [==============================] - 11s 344ms/step - loss: 4.3853 - acc: 0.7733 - val_loss: 0.1956 - val_acc: 0.9732\n",
            "Epoch 2/64\n",
            "31/31 [==============================] - 4s 118ms/step - loss: 1.3535 - acc: 0.8727 - val_loss: 0.0873 - val_acc: 0.9908\n",
            "Epoch 3/64\n",
            "31/31 [==============================] - 4s 118ms/step - loss: 0.5478 - acc: 0.9265 - val_loss: 0.1096 - val_acc: 0.9862\n",
            "Epoch 4/64\n",
            "31/31 [==============================] - 4s 115ms/step - loss: 0.1723 - acc: 0.9545 - val_loss: 0.0020 - val_acc: 1.0000\n",
            "Epoch 5/64\n",
            "31/31 [==============================] - 4s 115ms/step - loss: 0.5457 - acc: 0.9317 - val_loss: 3.0984e-04 - val_acc: 0.9908\n",
            "Epoch 6/64\n",
            "31/31 [==============================] - 4s 115ms/step - loss: 0.3849 - acc: 0.9565 - val_loss: 3.0470 - val_acc: 0.5413\n",
            "Epoch 7/64\n",
            "31/31 [==============================] - 4s 115ms/step - loss: 0.2399 - acc: 0.9565 - val_loss: 0.2445 - val_acc: 0.8303\n",
            "Epoch 8/64\n",
            "31/31 [==============================] - 4s 114ms/step - loss: 0.1733 - acc: 0.9669 - val_loss: 0.0113 - val_acc: 0.9862\n",
            "Epoch 9/64\n",
            "31/31 [==============================] - 4s 115ms/step - loss: 0.0695 - acc: 0.9748 - val_loss: 0.0016 - val_acc: 0.9955\n",
            "Epoch 10/64\n",
            "31/31 [==============================] - 4s 114ms/step - loss: 0.1477 - acc: 0.9713 - val_loss: 0.0365 - val_acc: 0.9908\n",
            "Epoch 11/64\n",
            "31/31 [==============================] - 4s 115ms/step - loss: 0.0784 - acc: 0.9689 - val_loss: 0.0566 - val_acc: 0.9908\n",
            "Epoch 12/64\n",
            "31/31 [==============================] - 4s 118ms/step - loss: 0.0734 - acc: 0.9788 - val_loss: 8.9191e-04 - val_acc: 0.9862\n",
            "Epoch 13/64\n",
            "31/31 [==============================] - 3s 111ms/step - loss: 0.0145 - acc: 0.9947 - val_loss: 0.1628 - val_acc: 0.8349\n",
            "Epoch 14/64\n",
            "31/31 [==============================] - 4s 115ms/step - loss: 0.0458 - acc: 0.9824 - val_loss: 1.3516e-04 - val_acc: 0.9954\n",
            "Epoch 15/64\n",
            "31/31 [==============================] - 4s 118ms/step - loss: 0.0720 - acc: 0.9788 - val_loss: 0.1152 - val_acc: 0.9908\n",
            "Epoch 16/64\n",
            "31/31 [==============================] - 3s 109ms/step - loss: 0.0241 - acc: 0.9915 - val_loss: 0.0017 - val_acc: 1.0000\n",
            "Epoch 17/64\n",
            "31/31 [==============================] - 4s 117ms/step - loss: 0.0021 - acc: 1.0000 - val_loss: 0.0016 - val_acc: 0.9955\n",
            "Epoch 18/64\n",
            "31/31 [==============================] - 4s 113ms/step - loss: 0.3545 - acc: 0.9670 - val_loss: 0.1299 - val_acc: 0.9908\n",
            "Epoch 19/64\n",
            "31/31 [==============================] - 4s 115ms/step - loss: 0.0024 - acc: 1.0000 - val_loss: 0.1451 - val_acc: 0.9954\n",
            "Epoch 20/64\n",
            "31/31 [==============================] - 4s 118ms/step - loss: 0.0064 - acc: 0.9970 - val_loss: 2.2182 - val_acc: 0.7339\n",
            "Epoch 21/64\n",
            "31/31 [==============================] - 3s 112ms/step - loss: 0.0953 - acc: 0.9862 - val_loss: 0.0431 - val_acc: 0.9908\n",
            "Epoch 22/64\n",
            "31/31 [==============================] - 4s 115ms/step - loss: 0.0990 - acc: 0.9865 - val_loss: 1.9657e-05 - val_acc: 1.0000\n",
            "Epoch 23/64\n",
            "31/31 [==============================] - 4s 118ms/step - loss: 0.0106 - acc: 0.9960 - val_loss: 3.7499e-04 - val_acc: 0.9954\n",
            "Epoch 24/64\n",
            "31/31 [==============================] - 4s 113ms/step - loss: 5.3208e-04 - acc: 1.0000 - val_loss: 1.2985e-04 - val_acc: 0.9954\n",
            "Epoch 25/64\n",
            "31/31 [==============================] - 4s 113ms/step - loss: 0.0453 - acc: 0.9928 - val_loss: 7.4425e-04 - val_acc: 0.9955\n",
            "Epoch 26/64\n",
            "31/31 [==============================] - 4s 116ms/step - loss: 7.5208e-04 - acc: 1.0000 - val_loss: 1.1734e-04 - val_acc: 0.9954\n",
            "Epoch 27/64\n",
            "31/31 [==============================] - 4s 118ms/step - loss: 9.9930e-05 - acc: 1.0000 - val_loss: 0.1651 - val_acc: 0.9954\n",
            "Epoch 28/64\n",
            "31/31 [==============================] - 4s 115ms/step - loss: 5.9256e-04 - acc: 1.0000 - val_loss: 1.7288e-07 - val_acc: 0.9954\n",
            "Epoch 29/64\n",
            "31/31 [==============================] - 4s 115ms/step - loss: 0.1155 - acc: 0.9845 - val_loss: 0.2151 - val_acc: 0.9954\n",
            "Epoch 30/64\n",
            "31/31 [==============================] - 4s 115ms/step - loss: 2.5337e-05 - acc: 1.0000 - val_loss: 1.9798e-06 - val_acc: 0.9954\n",
            "Epoch 31/64\n",
            "31/31 [==============================] - 4s 115ms/step - loss: 3.5103e-05 - acc: 1.0000 - val_loss: 0.2079 - val_acc: 0.9954\n",
            "Epoch 32/64\n",
            "31/31 [==============================] - 4s 115ms/step - loss: 0.0373 - acc: 0.9969 - val_loss: 5.3053e-05 - val_acc: 1.0000\n",
            "Epoch 33/64\n",
            "31/31 [==============================] - 4s 113ms/step - loss: 0.0015 - acc: 1.0000 - val_loss: 4.4447e-08 - val_acc: 0.9955\n",
            "Epoch 34/64\n",
            "31/31 [==============================] - 4s 115ms/step - loss: 6.3251e-06 - acc: 1.0000 - val_loss: 1.9195e-07 - val_acc: 1.0000\n",
            "Epoch 35/64\n",
            "31/31 [==============================] - 4s 115ms/step - loss: 1.8575e-06 - acc: 1.0000 - val_loss: 1.1411e-05 - val_acc: 0.9908\n",
            "Epoch 36/64\n",
            "31/31 [==============================] - 4s 115ms/step - loss: 1.3771e-06 - acc: 1.0000 - val_loss: 1.3809e-06 - val_acc: 0.9954\n",
            "Epoch 37/64\n",
            "31/31 [==============================] - 4s 115ms/step - loss: 0.1751 - acc: 0.9793 - val_loss: 0.3724 - val_acc: 0.9954\n",
            "Epoch 38/64\n",
            "31/31 [==============================] - 4s 115ms/step - loss: 4.1070e-04 - acc: 1.0000 - val_loss: 2.9382e-07 - val_acc: 1.0000\n",
            "Epoch 39/64\n",
            "31/31 [==============================] - 4s 115ms/step - loss: 1.1074e-05 - acc: 1.0000 - val_loss: 7.7641e-06 - val_acc: 0.9954\n",
            "Epoch 40/64\n",
            "31/31 [==============================] - 4s 115ms/step - loss: 5.4219e-06 - acc: 1.0000 - val_loss: 1.1792e-07 - val_acc: 0.9954\n",
            "Epoch 41/64\n",
            "31/31 [==============================] - 4s 114ms/step - loss: 1.1996e-06 - acc: 1.0000 - val_loss: 3.3784e-07 - val_acc: 0.9955\n",
            "Epoch 42/64\n",
            "31/31 [==============================] - 4s 113ms/step - loss: 0.1755 - acc: 0.9840 - val_loss: 9.0089e-07 - val_acc: 0.9954\n",
            "Epoch 43/64\n",
            "31/31 [==============================] - 4s 118ms/step - loss: 3.4843e-04 - acc: 1.0000 - val_loss: 1.4114e-05 - val_acc: 1.0000\n",
            "Epoch 44/64\n",
            "31/31 [==============================] - 3s 112ms/step - loss: 0.0114 - acc: 0.9968 - val_loss: 2.2619e-06 - val_acc: 0.9908\n",
            "Epoch 45/64\n",
            "31/31 [==============================] - 4s 115ms/step - loss: 0.0183 - acc: 0.9948 - val_loss: 1.4103e-07 - val_acc: 0.9954\n",
            "Epoch 46/64\n",
            "31/31 [==============================] - 4s 115ms/step - loss: 1.2235e-04 - acc: 1.0000 - val_loss: 1.1753e-09 - val_acc: 0.9954\n",
            "Epoch 47/64\n",
            "31/31 [==============================] - 4s 118ms/step - loss: 0.0336 - acc: 0.9919 - val_loss: 8.0138e-07 - val_acc: 1.0000\n",
            "Epoch 48/64\n",
            "31/31 [==============================] - 3s 110ms/step - loss: 0.0051 - acc: 0.9979 - val_loss: 0.0601 - val_acc: 0.9954\n",
            "Epoch 49/64\n",
            "31/31 [==============================] - 4s 116ms/step - loss: 1.5947e-06 - acc: 1.0000 - val_loss: 8.0521e-08 - val_acc: 0.9955\n",
            "Epoch 50/64\n",
            "31/31 [==============================] - 3s 113ms/step - loss: 4.9038e-06 - acc: 1.0000 - val_loss: 3.6469e-09 - val_acc: 1.0000\n",
            "Epoch 51/64\n",
            "31/31 [==============================] - 4s 115ms/step - loss: 1.0630e-06 - acc: 1.0000 - val_loss: 0.1331 - val_acc: 0.9908\n",
            "Epoch 52/64\n",
            "31/31 [==============================] - 3s 112ms/step - loss: 1.0470e-07 - acc: 1.0000 - val_loss: 3.2117e-10 - val_acc: 0.9954\n",
            "Epoch 53/64\n",
            "31/31 [==============================] - 4s 118ms/step - loss: 0.0022 - acc: 0.9980 - val_loss: 3.0179e-05 - val_acc: 1.0000\n",
            "Epoch 54/64\n",
            "31/31 [==============================] - 4s 115ms/step - loss: 0.0602 - acc: 0.9928 - val_loss: 5.2491e-08 - val_acc: 0.9954\n",
            "Epoch 55/64\n",
            "31/31 [==============================] - 3s 112ms/step - loss: 5.8097e-05 - acc: 1.0000 - val_loss: 1.1420e-07 - val_acc: 0.9954\n",
            "Epoch 56/64\n",
            "31/31 [==============================] - 3s 110ms/step - loss: 1.0564e-05 - acc: 1.0000 - val_loss: 2.5955e-07 - val_acc: 0.9954\n",
            "Epoch 57/64\n",
            "31/31 [==============================] - 3s 112ms/step - loss: 5.0639e-07 - acc: 1.0000 - val_loss: 3.2799e-04 - val_acc: 0.9955\n",
            "Epoch 58/64\n",
            "31/31 [==============================] - 4s 117ms/step - loss: 1.9540e-04 - acc: 1.0000 - val_loss: 2.6451e-13 - val_acc: 0.9954\n",
            "Epoch 59/64\n",
            "31/31 [==============================] - 3s 112ms/step - loss: 1.0412e-05 - acc: 1.0000 - val_loss: 2.2439e-06 - val_acc: 1.0000\n",
            "Epoch 60/64\n",
            "31/31 [==============================] - 4s 119ms/step - loss: 5.4454e-09 - acc: 1.0000 - val_loss: 0.3070 - val_acc: 0.9908\n",
            "Epoch 61/64\n",
            "31/31 [==============================] - 4s 115ms/step - loss: 4.5848e-09 - acc: 1.0000 - val_loss: 1.3664e-08 - val_acc: 1.0000\n",
            "Epoch 62/64\n",
            "31/31 [==============================] - 4s 118ms/step - loss: 2.9856e-09 - acc: 1.0000 - val_loss: 2.0452e-12 - val_acc: 0.9954\n",
            "Epoch 63/64\n",
            "31/31 [==============================] - 4s 115ms/step - loss: 0.0018 - acc: 0.9990 - val_loss: 1.6291e-08 - val_acc: 0.9862\n",
            "Epoch 64/64\n",
            "31/31 [==============================] - 4s 115ms/step - loss: 3.6667e-05 - acc: 1.0000 - val_loss: 1.7296e-08 - val_acc: 0.9954\n"
          ],
          "name": "stdout"
        }
      ]
    },
    {
      "cell_type": "code",
      "metadata": {
        "id": "_wROwkeYfHAo",
        "colab_type": "code",
        "colab": {}
      },
      "source": [
        "'''model.save_weights('model_wieghts.h5')\n",
        "model.save('model_keras.h5')'''"
      ],
      "execution_count": 0,
      "outputs": []
    },
    {
      "cell_type": "code",
      "metadata": {
        "id": "En4vODPofHA0",
        "colab_type": "code",
        "outputId": "ac21473c-31a7-40ff-f998-f4331f34fd4e",
        "colab": {
          "base_uri": "https://localhost:8080/",
          "height": 545
        }
      },
      "source": [
        "acc=history.history['acc']\n",
        "val_acc=history.history['val_acc']\n",
        "loss=history.history['loss']\n",
        "val_loss=history.history['val_loss']\n",
        "epochs=range(1,len(acc)+1)\n",
        "\n",
        "plt.plot(epochs,acc,'b',label='Training accuracy')\n",
        "plt.plot(epochs,val_acc,'r',label='Validation accuracy')\n",
        "plt.title('Training and Validation accuracy')\n",
        "plt.legend()\n",
        "\n",
        "plt.figure()\n",
        "plt.plot(epochs,loss,'b',label='Training loss')\n",
        "plt.plot(epochs,val_loss,'r',label='Validation loss')\n",
        "plt.title('Training and Validation loss')\n",
        "plt.legend()\n",
        "\n",
        "plt.show()"
      ],
      "execution_count": 40,
      "outputs": [
        {
          "output_type": "display_data",
          "data": {
            "image/png": "[encoded data removed]",
            "text/plain": [
              "<Figure size 432x288 with 1 Axes>"
            ]
          },
          "metadata": {
            "tags": [],
            "needs_background": "light"
          }
        },
        {
          "output_type": "display_data",
          "data": {
            "image/png": "[encoded data removed]",
            "text/plain": [
              "<Figure size 432x288 with 1 Axes>"
            ]
          },
          "metadata": {
            "tags": [],
            "needs_background": "light"
          }
        }
      ]
    },
    {
      "cell_type": "code",
      "metadata": {
        "id": "z3TeMTng4vWw",
        "colab_type": "code",
        "colab": {}
      },
      "source": [
        "test_imgs=[]\n",
        "labels=['covid','normal']\n",
        "for l in labels:\n",
        "  new_path=os.path.join(test_dir,l)\n",
        "  num_label=labels.index(l)\n",
        "  for img in os.listdir(new_path):\n",
        "    img=cv2.imread(os.path.join(new_path,img),cv2.IMREAD_COLOR)\n",
        "    img=cv2.resize(img,(300,300),interpolation = cv2.INTER_CUBIC)\n",
        "    #RGB_img = cv2.cvtColor(img, cv2.COLOR_BGR2RGB)\n",
        "    test_imgs.append([img,num_label])\n",
        "    #imgplot=plt.imshow(RGB_img)\n",
        "    \n",
        "    #plt.show()\n"
      ],
      "execution_count": 0,
      "outputs": []
    },
    {
      "cell_type": "code",
      "metadata": {
        "id": "tXiI3YcVPVNx",
        "colab_type": "code",
        "outputId": "2d46028c-fa0d-4ad9-cbd9-21e7897eafda",
        "colab": {
          "base_uri": "https://localhost:8080/",
          "height": 34
        }
      },
      "source": [
        "np.array(test_imgs).shape"
      ],
      "execution_count": 42,
      "outputs": [
        {
          "output_type": "execute_result",
          "data": {
            "text/plain": [
              "(576, 2)"
            ]
          },
          "metadata": {
            "tags": []
          },
          "execution_count": 42
        }
      ]
    },
    {
      "cell_type": "code",
      "metadata": {
        "id": "CZ_BF5nPNv9N",
        "colab_type": "code",
        "colab": {}
      },
      "source": [
        "random.shuffle(test_imgs)"
      ],
      "execution_count": 0,
      "outputs": []
    },
    {
      "cell_type": "code",
      "metadata": {
        "id": "Dwnhlg9k5LC4",
        "colab_type": "code",
        "colab": {}
      },
      "source": [
        "test_imgs=np.array(test_imgs)\n",
        "y_test=test_imgs[:,1]\n",
        "X_test=test_imgs[:,0]"
      ],
      "execution_count": 0,
      "outputs": []
    },
    {
      "cell_type": "code",
      "metadata": {
        "id": "fjcqjw525gHN",
        "colab_type": "code",
        "colab": {}
      },
      "source": [
        "X_test=np.array(X_test)\n",
        "y_test=np.array(y_test)"
      ],
      "execution_count": 0,
      "outputs": []
    },
    {
      "cell_type": "code",
      "metadata": {
        "id": "n3O-Kcda6HuG",
        "colab_type": "code",
        "colab": {}
      },
      "source": [
        "X_test1=[]\n",
        "for i in range(len(X_test)):\n",
        "  X_test1.append(X_test[i])"
      ],
      "execution_count": 0,
      "outputs": []
    },
    {
      "cell_type": "code",
      "metadata": {
        "id": "sN0TAqto6wbh",
        "colab_type": "code",
        "outputId": "1e832556-a698-442c-aa0a-6cbaeb509584",
        "colab": {
          "base_uri": "https://localhost:8080/",
          "height": 34
        }
      },
      "source": [
        "X_test1=np.array(X_test1)\n",
        "#y_test1=np.array(y_test1)\n",
        "X_test1.shape"
      ],
      "execution_count": 47,
      "outputs": [
        {
          "output_type": "execute_result",
          "data": {
            "text/plain": [
              "(576, 300, 300, 3)"
            ]
          },
          "metadata": {
            "tags": []
          },
          "execution_count": 47
        }
      ]
    },
    {
      "cell_type": "code",
      "metadata": {
        "id": "IXlfLft3fHBC",
        "colab_type": "code",
        "colab": {}
      },
      "source": [
        "#X_test,y_test = read_and_process_image(test_image)\n",
        "#x=np.array(X_test)\n",
        "test_datagen=ImageDataGenerator(rescale=1./255)"
      ],
      "execution_count": 0,
      "outputs": []
    },
    {
      "cell_type": "code",
      "metadata": {
        "id": "h11IxbWSpT0J",
        "colab_type": "code",
        "colab": {}
      },
      "source": [
        "pred=model.predict(X_test1)"
      ],
      "execution_count": 0,
      "outputs": []
    },
    {
      "cell_type": "code",
      "metadata": {
        "id": "ToxqTxUbi2Qn",
        "colab_type": "code",
        "outputId": "ce72a895-84fb-4e62-808d-b84c254efca0",
        "colab": {
          "base_uri": "https://localhost:8080/",
          "height": 34
        }
      },
      "source": [
        "len(pred)"
      ],
      "execution_count": 50,
      "outputs": [
        {
          "output_type": "execute_result",
          "data": {
            "text/plain": [
              "576"
            ]
          },
          "metadata": {
            "tags": []
          },
          "execution_count": 50
        }
      ]
    },
    {
      "cell_type": "code",
      "metadata": {
        "id": "8KM9bJr2i5r3",
        "colab_type": "code",
        "outputId": "98c4d7ae-7237-4d70-d5b2-c2127a984c64",
        "colab": {
          "base_uri": "https://localhost:8080/",
          "height": 34
        }
      },
      "source": [
        "len(y_test)"
      ],
      "execution_count": 51,
      "outputs": [
        {
          "output_type": "execute_result",
          "data": {
            "text/plain": [
              "576"
            ]
          },
          "metadata": {
            "tags": []
          },
          "execution_count": 51
        }
      ]
    },
    {
      "cell_type": "code",
      "metadata": {
        "id": "rAL9ybBPpaUN",
        "colab_type": "code",
        "outputId": "d9f21c8d-eae4-4ad1-bc2d-0fc16ac2c013",
        "colab": {
          "base_uri": "https://localhost:8080/",
          "height": 1000
        }
      },
      "source": [
        "for i in range(len(y_test)):\n",
        "    print(f'{pred[i]} {y_test[i]}')"
      ],
      "execution_count": 52,
      "outputs": [
        {
          "output_type": "stream",
          "text": [
            "[1.] 1\n",
            "[1.] 1\n",
            "[1.] 1\n",
            "[1.] 1\n",
            "[1.] 1\n",
            "[1.] 1\n",
            "[7.6113125e-09] 0\n",
            "[1.] 1\n",
            "[5.596895e-11] 0\n",
            "[1.] 1\n",
            "[1.5203213e-09] 0\n",
            "[2.600402e-14] 0\n",
            "[1.6235586e-20] 0\n",
            "[1.] 1\n",
            "[1.] 1\n",
            "[3.965788e-15] 0\n",
            "[1.2432902e-09] 0\n",
            "[3.4739398e-29] 0\n",
            "[1.] 1\n",
            "[1.] 1\n",
            "[1.] 1\n",
            "[3.8253926e-27] 0\n",
            "[4.1891192e-24] 0\n",
            "[1.] 1\n",
            "[1.] 1\n",
            "[5.675258e-27] 0\n",
            "[1.] 1\n",
            "[2.4083896e-25] 0\n",
            "[1.] 1\n",
            "[1.] 1\n",
            "[1.] 1\n",
            "[1.] 1\n",
            "[2.3355164e-21] 0\n",
            "[1.] 1\n",
            "[5.9189924e-14] 0\n",
            "[1.1476297e-12] 0\n",
            "[2.9578126e-22] 0\n",
            "[1.] 1\n",
            "[1.2636632e-18] 0\n",
            "[1.] 1\n",
            "[1.] 1\n",
            "[1.] 1\n",
            "[1.0664376e-22] 0\n",
            "[1.] 1\n",
            "[1.] 1\n",
            "[1.7864711e-07] 0\n",
            "[1.] 1\n",
            "[4.382782e-12] 0\n",
            "[1.] 1\n",
            "[6.651321e-11] 0\n",
            "[1.] 1\n",
            "[2.2323204e-26] 0\n",
            "[1.2211819e-27] 0\n",
            "[1.] 1\n",
            "[0.97847706] 0\n",
            "[1.] 1\n",
            "[1.0631188e-15] 0\n",
            "[1.] 1\n",
            "[2.751281e-21] 0\n",
            "[6.893054e-17] 0\n",
            "[0.99994993] 1\n",
            "[1.] 1\n",
            "[1.4122115e-24] 0\n",
            "[7.570568e-17] 0\n",
            "[1.] 1\n",
            "[2.4191156e-11] 0\n",
            "[1.] 1\n",
            "[1.3953363e-19] 0\n",
            "[4.303891e-28] 0\n",
            "[1.] 1\n",
            "[1.] 1\n",
            "[1.] 1\n",
            "[4.630031e-20] 0\n",
            "[6.091276e-16] 0\n",
            "[1.] 1\n",
            "[1.] 1\n",
            "[3.1948058e-10] 0\n",
            "[2.6778993e-27] 0\n",
            "[7.1825297e-25] 0\n",
            "[1.] 1\n",
            "[0.9989083] 1\n",
            "[1.] 1\n",
            "[1.] 1\n",
            "[1.4874838e-17] 0\n",
            "[1.5018682e-26] 0\n",
            "[9.484842e-22] 0\n",
            "[1.8040979e-16] 0\n",
            "[1.] 1\n",
            "[1.] 1\n",
            "[1.1426385e-28] 0\n",
            "[4.9168675e-20] 0\n",
            "[1.] 1\n",
            "[4.3216008e-17] 0\n",
            "[1.] 1\n",
            "[1.6415866e-29] 0\n",
            "[3.7283927e-26] 0\n",
            "[1.0919109e-14] 0\n",
            "[3.077553e-21] 0\n",
            "[8.1013876e-11] 0\n",
            "[1.] 1\n",
            "[1.] 1\n",
            "[2.4367848e-28] 0\n",
            "[1.] 1\n",
            "[3.7417215e-15] 0\n",
            "[1.] 1\n",
            "[5.089405e-19] 0\n",
            "[7.683563e-19] 0\n",
            "[1.] 1\n",
            "[1.8663812e-21] 0\n",
            "[1.0324222e-12] 0\n",
            "[5.0491993e-20] 0\n",
            "[1.] 1\n",
            "[2.1309398e-19] 0\n",
            "[1.2824237e-09] 0\n",
            "[1.] 1\n",
            "[0.99636155] 1\n",
            "[8.339818e-28] 0\n",
            "[3.9022419e-19] 0\n",
            "[6.420166e-22] 0\n",
            "[1.] 1\n",
            "[7.3124786e-22] 0\n",
            "[1.] 1\n",
            "[1.8109531e-22] 0\n",
            "[1.] 1\n",
            "[8.22005e-20] 0\n",
            "[8.7429566e-20] 0\n",
            "[2.447995e-19] 0\n",
            "[0.16022083] 1\n",
            "[1.] 1\n",
            "[1.] 1\n",
            "[8.2674556e-24] 0\n",
            "[7.558211e-26] 0\n",
            "[1.20094e-09] 0\n",
            "[6.506444e-19] 0\n",
            "[1.] 1\n",
            "[4.0797833e-15] 0\n",
            "[1.] 1\n",
            "[1.] 1\n",
            "[1.] 1\n",
            "[1.] 1\n",
            "[1.0238457e-25] 0\n",
            "[1.] 1\n",
            "[2.9288335e-22] 0\n",
            "[2.2016638e-26] 0\n",
            "[1.] 1\n",
            "[1.] 1\n",
            "[1.] 1\n",
            "[6.5501143e-22] 0\n",
            "[8.340985e-23] 0\n",
            "[2.9478544e-15] 0\n",
            "[1.3134349e-08] 0\n",
            "[1.] 1\n",
            "[2.728295e-16] 0\n",
            "[1.] 1\n",
            "[1.4518012e-18] 0\n",
            "[1.] 1\n",
            "[3.0846947e-09] 0\n",
            "[7.649908e-13] 0\n",
            "[1.119384e-21] 0\n",
            "[3.1719554e-19] 0\n",
            "[1.] 1\n",
            "[1.] 1\n",
            "[1.] 1\n",
            "[1.] 1\n",
            "[1.0926412e-27] 0\n",
            "[1.] 1\n",
            "[1.] 1\n",
            "[1.3830865e-12] 0\n",
            "[2.3156288e-12] 0\n",
            "[1.] 1\n",
            "[1.1882251e-26] 0\n",
            "[1.] 1\n",
            "[1.] 1\n",
            "[1.] 1\n",
            "[1.] 1\n",
            "[1.3822705e-21] 0\n",
            "[6.1916485e-20] 0\n",
            "[1.8765066e-26] 0\n",
            "[1.] 1\n",
            "[1.] 1\n",
            "[1.3797211e-09] 0\n",
            "[6.562783e-18] 0\n",
            "[9.987468e-14] 0\n",
            "[1.] 1\n",
            "[1.] 1\n",
            "[1.] 1\n",
            "[1.] 1\n",
            "[3.5810892e-19] 0\n",
            "[1.] 1\n",
            "[1.] 1\n",
            "[1.1825399e-28] 0\n",
            "[3.3389797e-23] 0\n",
            "[2.0536004e-27] 0\n",
            "[2.6970638e-06] 0\n",
            "[1.] 1\n",
            "[6.520212e-18] 0\n",
            "[1.] 1\n",
            "[1.] 1\n",
            "[2.7971305e-07] 0\n",
            "[1.] 1\n",
            "[1.] 1\n",
            "[1.] 1\n",
            "[5.0773686e-13] 0\n",
            "[1.] 1\n",
            "[1.] 1\n",
            "[8.3116676e-23] 0\n",
            "[7.611802e-25] 0\n",
            "[4.5486436e-20] 0\n",
            "[1.] 1\n",
            "[1.007961e-25] 0\n",
            "[0.99999833] 1\n",
            "[1.] 1\n",
            "[1.] 1\n",
            "[1.] 1\n",
            "[1.] 1\n",
            "[1.] 1\n",
            "[2.6662912e-18] 0\n",
            "[1.] 1\n",
            "[1.8607918e-15] 0\n",
            "[1.] 1\n",
            "[5.5102155e-23] 0\n",
            "[0.00055609] 0\n",
            "[1.] 1\n",
            "[2.0075517e-20] 0\n",
            "[1.] 1\n",
            "[1.] 1\n",
            "[1.] 1\n",
            "[1.] 1\n",
            "[1.3770723e-26] 0\n",
            "[1.] 1\n",
            "[1.9985298e-18] 0\n",
            "[1.] 1\n",
            "[1.9044238e-24] 0\n",
            "[6.5151454e-24] 0\n",
            "[1.] 1\n",
            "[1.2152785e-22] 0\n",
            "[1.] 1\n",
            "[1.] 1\n",
            "[2.841679e-12] 0\n",
            "[1.] 1\n",
            "[1.9323826e-20] 0\n",
            "[3.2276583e-22] 0\n",
            "[1.] 1\n",
            "[1.] 1\n",
            "[1.4764204e-25] 0\n",
            "[1.] 1\n",
            "[1.] 1\n",
            "[2.575334e-13] 0\n",
            "[1.] 1\n",
            "[9.3649176e-27] 0\n",
            "[1.] 1\n",
            "[3.4069128e-24] 0\n",
            "[1.] 1\n",
            "[5.572149e-23] 0\n",
            "[1.] 1\n",
            "[1.] 1\n",
            "[1.] 1\n",
            "[2.5650004e-24] 0\n",
            "[1.] 1\n",
            "[1.] 1\n",
            "[1.] 1\n",
            "[1.8754175e-20] 0\n",
            "[1.9644374e-05] 0\n",
            "[3.4849455e-20] 0\n",
            "[2.9801894e-09] 0\n",
            "[1.] 1\n",
            "[1.] 1\n",
            "[1.] 1\n",
            "[1.] 1\n",
            "[1.2672074e-24] 0\n",
            "[4.662381e-18] 0\n",
            "[1.] 1\n",
            "[1.] 1\n",
            "[6.64831e-24] 0\n",
            "[2.407904e-24] 0\n",
            "[1.] 1\n",
            "[9.4491385e-27] 0\n",
            "[1.] 1\n",
            "[1.5213957e-15] 0\n",
            "[1.] 1\n",
            "[5.675258e-27] 0\n",
            "[1.] 1\n",
            "[1.] 1\n",
            "[2.9672293e-20] 0\n",
            "[2.3888207e-23] 0\n",
            "[1.] 1\n",
            "[1.3050026e-22] 0\n",
            "[1.9284968e-10] 0\n",
            "[1.1280354e-19] 0\n",
            "[1.] 1\n",
            "[1.] 1\n",
            "[1.] 1\n",
            "[3.864719e-18] 0\n",
            "[2.1992813e-17] 0\n",
            "[1.1053292e-23] 0\n",
            "[1.] 1\n",
            "[1.] 1\n",
            "[5.5209465e-23] 0\n",
            "[1.65941e-15] 0\n",
            "[1.] 1\n",
            "[1.] 1\n",
            "[1.] 1\n",
            "[1.] 1\n",
            "[1.4302267e-13] 0\n",
            "[7.513143e-17] 0\n",
            "[1.] 1\n",
            "[1.6544529e-17] 0\n",
            "[1.] 1\n",
            "[1.] 1\n",
            "[2.2712233e-18] 0\n",
            "[1.] 1\n",
            "[1.2748757e-20] 0\n",
            "[5.5696645e-11] 0\n",
            "[1.] 1\n",
            "[2.0298029e-16] 0\n",
            "[1.] 1\n",
            "[1.] 1\n",
            "[9.7013136e-14] 0\n",
            "[1.] 1\n",
            "[3.7860264e-13] 0\n",
            "[1.9423394e-18] 0\n",
            "[1.2113892e-24] 0\n",
            "[1.] 1\n",
            "[1.4918467e-19] 0\n",
            "[1.] 1\n",
            "[6.72753e-15] 0\n",
            "[5.923736e-18] 0\n",
            "[1.] 1\n",
            "[9.213767e-16] 0\n",
            "[5.3737333e-29] 0\n",
            "[2.1438298e-12] 0\n",
            "[5.510548e-17] 0\n",
            "[1.] 1\n",
            "[0.9999807] 1\n",
            "[7.564289e-21] 0\n",
            "[3.8611902e-14] 0\n",
            "[1.01869704e-22] 0\n",
            "[1.727494e-17] 0\n",
            "[1.] 1\n",
            "[1.] 1\n",
            "[1.] 1\n",
            "[1.] 1\n",
            "[1.] 1\n",
            "[4.4166615e-26] 0\n",
            "[1.] 1\n",
            "[0.9942147] 1\n",
            "[2.64116e-11] 0\n",
            "[4.9383704e-28] 0\n",
            "[1.] 1\n",
            "[1.] 1\n",
            "[7.0685355e-09] 0\n",
            "[2.1278059e-25] 0\n",
            "[1.] 1\n",
            "[1.] 1\n",
            "[3.3032954e-13] 0\n",
            "[2.4312e-24] 0\n",
            "[1.] 1\n",
            "[3.0708428e-15] 0\n",
            "[7.9684525e-20] 0\n",
            "[9.4464775e-07] 0\n",
            "[1.] 1\n",
            "[1.6870244e-19] 0\n",
            "[4.7351175e-14] 0\n",
            "[2.6722569e-19] 0\n",
            "[2.391267e-28] 0\n",
            "[2.2800748e-07] 0\n",
            "[1.5382187e-24] 0\n",
            "[1.9917044e-09] 0\n",
            "[6.539211e-20] 0\n",
            "[1.] 1\n",
            "[1.9078356e-15] 0\n",
            "[0.8335612] 1\n",
            "[1.] 1\n",
            "[1.] 1\n",
            "[1.0064771e-19] 0\n",
            "[4.3543158e-17] 0\n",
            "[5.521756e-05] 0\n",
            "[1.2307469e-10] 0\n",
            "[1.] 1\n",
            "[2.2911789e-24] 0\n",
            "[1.00529245e-17] 0\n",
            "[1.] 1\n",
            "[1.2921102e-27] 0\n",
            "[1.] 1\n",
            "[1.3128796e-18] 0\n",
            "[1.] 1\n",
            "[1.] 1\n",
            "[1.] 1\n",
            "[1.2692717e-19] 0\n",
            "[8.500019e-22] 0\n",
            "[1.] 1\n",
            "[1.] 1\n",
            "[1.] 1\n",
            "[1.] 1\n",
            "[3.282773e-26] 0\n",
            "[1.0991681e-25] 0\n",
            "[1.] 1\n",
            "[1.] 1\n",
            "[3.131772e-20] 0\n",
            "[1.] 1\n",
            "[1.] 1\n",
            "[1.8002471e-17] 0\n",
            "[1.] 1\n",
            "[1.04212224e-16] 0\n",
            "[1.] 1\n",
            "[1.] 1\n",
            "[1.] 1\n",
            "[8.66939e-21] 0\n",
            "[1.] 1\n",
            "[1.] 1\n",
            "[1.] 1\n",
            "[1.] 1\n",
            "[5.2508337e-10] 0\n",
            "[4.0496862e-23] 0\n",
            "[1.] 1\n",
            "[1.] 1\n",
            "[1.] 1\n",
            "[1.] 1\n",
            "[1.1702698e-11] 0\n",
            "[3.2545054e-19] 0\n",
            "[1.6371727e-20] 0\n",
            "[1.69696e-24] 0\n",
            "[1.0875538e-15] 0\n",
            "[1.] 1\n",
            "[3.1844956e-24] 0\n",
            "[1.] 1\n",
            "[4.9169356e-23] 0\n",
            "[7.8549026e-23] 0\n",
            "[1.] 1\n",
            "[4.029169e-08] 0\n",
            "[8.801149e-20] 0\n",
            "[1.] 1\n",
            "[5.0974213e-22] 0\n",
            "[1.] 1\n",
            "[1.] 1\n",
            "[1.] 1\n",
            "[2.4321308e-29] 0\n",
            "[1.] 1\n",
            "[2.7343866e-26] 0\n",
            "[1.] 1\n",
            "[1.] 1\n",
            "[0.7115588] 1\n",
            "[5.083087e-06] 0\n",
            "[2.6661259e-20] 0\n",
            "[1.] 1\n",
            "[1.] 1\n",
            "[1.8637021e-10] 0\n",
            "[1.9711194e-20] 0\n",
            "[1.9999554e-11] 0\n",
            "[1.] 1\n",
            "[1.9242257e-19] 0\n",
            "[2.4821306e-25] 0\n",
            "[2.0366632e-12] 0\n",
            "[2.0361149e-24] 0\n",
            "[1.3734587e-17] 0\n",
            "[1.] 1\n",
            "[1.] 1\n",
            "[1.] 1\n",
            "[1.1150959e-22] 0\n",
            "[1.] 1\n",
            "[1.] 1\n",
            "[1.] 1\n",
            "[1.] 1\n",
            "[1.] 1\n",
            "[1.] 1\n",
            "[1.] 1\n",
            "[1.] 1\n",
            "[1.] 1\n",
            "[2.2238176e-14] 0\n",
            "[1.] 1\n",
            "[1.] 1\n",
            "[1.] 1\n",
            "[6.5303213e-32] 0\n",
            "[4.4750653e-28] 0\n",
            "[1.] 1\n",
            "[1.] 1\n",
            "[1.] 1\n",
            "[6.149506e-23] 0\n",
            "[6.6888225e-27] 0\n",
            "[1.6154943e-15] 0\n",
            "[2.2880007e-23] 0\n",
            "[1.] 1\n",
            "[3.078306e-20] 0\n",
            "[1.] 1\n",
            "[7.40478e-28] 0\n",
            "[1.] 1\n",
            "[6.29127e-11] 0\n",
            "[4.454771e-17] 0\n",
            "[4.965205e-16] 0\n",
            "[8.8534507e-26] 0\n",
            "[3.332353e-29] 0\n",
            "[1.] 1\n",
            "[1.] 1\n",
            "[1.462547e-13] 0\n",
            "[1.] 1\n",
            "[1.] 1\n",
            "[1.] 1\n",
            "[7.543787e-13] 0\n",
            "[1.] 1\n",
            "[3.444485e-15] 0\n",
            "[1.] 1\n",
            "[4.004126e-15] 0\n",
            "[1.] 1\n",
            "[4.389539e-13] 0\n",
            "[8.939528e-08] 0\n",
            "[1.] 1\n",
            "[1.0472304e-25] 0\n",
            "[1.] 1\n",
            "[4.1240398e-20] 0\n",
            "[1.] 1\n",
            "[6.368582e-20] 0\n",
            "[1.] 1\n",
            "[6.3133783e-29] 0\n",
            "[1.] 1\n",
            "[4.755003e-21] 0\n",
            "[6.5023628e-15] 0\n",
            "[1.] 1\n",
            "[1.] 1\n",
            "[3.3446244e-17] 0\n",
            "[1.] 1\n",
            "[1.] 1\n",
            "[6.6775734e-14] 0\n",
            "[1.] 1\n",
            "[1.] 1\n",
            "[1.469697e-21] 0\n",
            "[9.634703e-11] 0\n",
            "[1.] 1\n",
            "[1.0176383e-19] 0\n",
            "[1.] 1\n",
            "[1.] 1\n",
            "[4.790747e-12] 0\n",
            "[1.] 1\n",
            "[7.695406e-06] 0\n",
            "[2.4278704e-26] 0\n",
            "[8.167958e-24] 0\n",
            "[3.208504e-17] 0\n",
            "[0.9884421] 1\n",
            "[4.5233587e-22] 0\n",
            "[4.2368138e-26] 0\n",
            "[6.428619e-15] 0\n",
            "[1.] 1\n",
            "[1.] 1\n",
            "[1.] 1\n",
            "[3.585352e-20] 0\n",
            "[3.507396e-10] 0\n",
            "[7.401187e-11] 0\n",
            "[4.708722e-28] 0\n",
            "[4.900288e-16] 0\n",
            "[3.8810236e-21] 0\n",
            "[8.617926e-27] 0\n",
            "[3.894041e-15] 0\n",
            "[2.882983e-17] 0\n",
            "[3.0455562e-19] 0\n",
            "[1.] 1\n",
            "[1.4958031e-17] 0\n",
            "[1.] 1\n",
            "[1.] 1\n",
            "[7.5863356e-29] 0\n",
            "[1.] 1\n",
            "[1.] 1\n",
            "[7.675245e-26] 0\n",
            "[1.] 1\n",
            "[1.7185144e-26] 0\n",
            "[1.] 1\n",
            "[1.4215461e-16] 0\n",
            "[1.] 1\n",
            "[2.3845544e-20] 0\n",
            "[3.5237344e-15] 0\n",
            "[8.35869e-24] 0\n",
            "[3.0565862e-29] 0\n",
            "[1.] 1\n",
            "[1.0842184e-24] 0\n",
            "[1.] 1\n",
            "[1.] 1\n",
            "[1.] 1\n",
            "[1.] 1\n"
          ],
          "name": "stdout"
        }
      ]
    },
    {
      "cell_type": "code",
      "metadata": {
        "id": "3UNQtsCfC_wi",
        "colab_type": "code",
        "colab": {}
      },
      "source": [
        "#i=0\n",
        "correct=0\n",
        "wrong=0\n",
        "n=0\n",
        "for iter in range(len(y_test)):\n",
        "    \n",
        "  \n",
        "    if pred[iter]>0.5:\n",
        "        if y_test[iter]==1:\n",
        "            correct+=1\n",
        "        else:\n",
        "            wrong+=1\n",
        "    else:\n",
        "        if y_test[iter]==0:\n",
        "            correct+=1\n",
        "        else:\n",
        "            wrong+=1\n",
        "        \n",
        "  \n",
        "    "
      ],
      "execution_count": 0,
      "outputs": []
    },
    {
      "cell_type": "code",
      "metadata": {
        "id": "gzjEaYBjEX2D",
        "colab_type": "code",
        "outputId": "79ba287a-0056-4190-e919-a3830efce303",
        "colab": {
          "base_uri": "https://localhost:8080/",
          "height": 52
        }
      },
      "source": [
        "print(correct)\n",
        "print(wrong)"
      ],
      "execution_count": 54,
      "outputs": [
        {
          "output_type": "stream",
          "text": [
            "574\n",
            "2\n"
          ],
          "name": "stdout"
        }
      ]
    },
    {
      "cell_type": "code",
      "metadata": {
        "id": "1sOlaFn1Ek9Y",
        "colab_type": "code",
        "outputId": "b2f55f7a-e905-4d27-a19c-5c9c19dbca17",
        "colab": {
          "base_uri": "https://localhost:8080/",
          "height": 34
        }
      },
      "source": [
        "correct/(correct+wrong)"
      ],
      "execution_count": 55,
      "outputs": [
        {
          "output_type": "execute_result",
          "data": {
            "text/plain": [
              "0.9965277777777778"
            ]
          },
          "metadata": {
            "tags": []
          },
          "execution_count": 55
        }
      ]
    }
  ]
}